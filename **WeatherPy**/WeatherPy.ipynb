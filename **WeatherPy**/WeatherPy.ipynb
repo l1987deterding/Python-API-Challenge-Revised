{
 "cells": [
  {
   "cell_type": "markdown",
   "metadata": {},
   "source": [
    "# WeatherPy\n",
    "----\n",
    "\n",
    "#### Note\n",
    "* Instructions have been included for each segment. You do not have to follow them exactly, but they are included to help you think through the steps."
   ]
  },
  {
   "cell_type": "code",
   "execution_count": 9,
   "metadata": {},
   "outputs": [],
   "source": [
    "%matplotlib inline"
   ]
  },
  {
   "cell_type": "code",
   "execution_count": 53,
   "metadata": {},
   "outputs": [],
   "source": [
    "# Dependencies and Setup\n",
    "import matplotlib.pyplot as plt\n",
    "import pandas as pd\n",
    "import numpy as np\n",
    "import requests\n",
    "import time\n",
    "import scipy.stats as st\n",
    "from scipy.stats import linregress\n",
    "import os\n",
    "import csv"
   ]
  },
  {
   "cell_type": "code",
   "execution_count": 17,
   "metadata": {},
   "outputs": [
    {
     "data": {
      "text/plain": [
       "'7aebcd7d949d16d73bf2b583e0271861'"
      ]
     },
     "execution_count": 17,
     "metadata": {},
     "output_type": "execute_result"
    }
   ],
   "source": [
    "# Import API key\n",
    "from api_keys import weather_api_key\n",
    "weather_api_key"
   ]
  },
  {
   "cell_type": "code",
   "execution_count": 18,
   "metadata": {},
   "outputs": [],
   "source": [
    "# Incorporated citipy to determine city based on latitude and longitude\n",
    "from citipy import citipy"
   ]
  },
  {
   "cell_type": "code",
   "execution_count": 19,
   "metadata": {},
   "outputs": [
    {
     "data": {
      "text/plain": [
       "'/Users/deterding.lydia/Desktop/python-api-challenge/../output_data/cities.csv'"
      ]
     },
     "execution_count": 19,
     "metadata": {},
     "output_type": "execute_result"
    }
   ],
   "source": [
    "# Output File (CSV)\n",
    "output_data_file = os.path.join(os.getcwd(), \"..\",'output_data/cities.csv')\n",
    "output_data_file"
   ]
  },
  {
   "cell_type": "code",
   "execution_count": 20,
   "metadata": {
    "scrolled": true
   },
   "outputs": [],
   "source": [
    "# Range of latitudes and longitudes\n",
    "lat_range = (-90, 90)\n",
    "lng_range = (-180, 180)"
   ]
  },
  {
   "cell_type": "markdown",
   "metadata": {},
   "source": [
    "## Generate Cities List"
   ]
  },
  {
   "cell_type": "code",
   "execution_count": 21,
   "metadata": {},
   "outputs": [],
   "source": [
    "# List for holding lat_lngs and cities\n",
    "lat_lngs = []\n",
    "cities = []"
   ]
  },
  {
   "cell_type": "code",
   "execution_count": 22,
   "metadata": {},
   "outputs": [],
   "source": [
    "# Create a set of random lat and lng combinations\n",
    "lats = np.random.uniform(lat_range[0], lat_range[1], size=1500)\n",
    "lngs = np.random.uniform(lng_range[0], lng_range[1], size=1500)\n",
    "lat_lngs = zip(lats, lngs)"
   ]
  },
  {
   "cell_type": "code",
   "execution_count": 23,
   "metadata": {},
   "outputs": [],
   "source": [
    "# Identify nearest city for each lat, lng combination\n",
    "for lat_lng in lat_lngs:\n",
    "    city = citipy.nearest_city(lat_lng[0], lat_lng[1]).city_name\n",
    "    \n",
    "    # If the city is unique, then add it to a our cities list\n",
    "    if city not in cities:\n",
    "        cities.append(city)"
   ]
  },
  {
   "cell_type": "code",
   "execution_count": 24,
   "metadata": {},
   "outputs": [
    {
     "data": {
      "text/plain": [
       "626"
      ]
     },
     "execution_count": 24,
     "metadata": {},
     "output_type": "execute_result"
    }
   ],
   "source": [
    "# Print the city count to confirm sufficient count\n",
    "len(cities)"
   ]
  },
  {
   "cell_type": "markdown",
   "metadata": {},
   "source": [
    "### Perform API Calls\n",
    "* Perform a weather check on each city using a series of successive API calls.\n",
    "* Include a print log of each city as it'sbeing processed (with the city number and city name).\n"
   ]
  },
  {
   "cell_type": "code",
   "execution_count": 25,
   "metadata": {
    "scrolled": true
   },
   "outputs": [],
   "source": [
    "# Get Weather Data\n",
    "url = \"http://api.openweathermap.org/data/2.5/weather?\"\n",
    "units = \"imperial\"\n",
    "query_url = f\"{url}appid={weather_api_key}&units={units}&q=\""
   ]
  },
  {
   "cell_type": "code",
   "execution_count": 26,
   "metadata": {},
   "outputs": [
    {
     "data": {
      "text/plain": [
       "{'coord': {'lon': 57.5167, 'lat': -20.5167},\n",
       " 'weather': [{'id': 802,\n",
       "   'main': 'Clouds',\n",
       "   'description': 'scattered clouds',\n",
       "   'icon': '03d'}],\n",
       " 'base': 'stations',\n",
       " 'main': {'temp': 71.98,\n",
       "  'feels_like': 72.07,\n",
       "  'temp_min': 68.36,\n",
       "  'temp_max': 71.98,\n",
       "  'pressure': 1023,\n",
       "  'humidity': 68},\n",
       " 'visibility': 10000,\n",
       " 'wind': {'speed': 12.66, 'deg': 160},\n",
       " 'clouds': {'all': 40},\n",
       " 'dt': 1624159850,\n",
       " 'sys': {'type': 1,\n",
       "  'id': 2061,\n",
       "  'country': 'MU',\n",
       "  'sunrise': 1624157094,\n",
       "  'sunset': 1624196282},\n",
       " 'timezone': 14400,\n",
       " 'id': 933995,\n",
       " 'name': 'Souillac',\n",
       " 'cod': 200}"
      ]
     },
     "execution_count": 26,
     "metadata": {},
     "output_type": "execute_result"
    }
   ],
   "source": [
    "# Get weather data\n",
    "weather_response = requests.get(query_url + city)\n",
    "weather_json = weather_response.json()\n",
    "weather_json"
   ]
  },
  {
   "cell_type": "code",
   "execution_count": 27,
   "metadata": {},
   "outputs": [
    {
     "name": "stdout",
     "output_type": "stream",
     "text": [
      "['qaanaaq', 'albany', 'saint-philippe', 'champerico', 'vaini', 'narsaq', 'bargal', 'pevek', 'cape town', 'sentyabrskiy', 'windsor', 'illoqqortoormiut', 'paragominas', 'chokurdakh', 'bubaque', 'rikitea', 'east london', 'castro', 'daru', 'sherbakul', 'thompson', 'khonuu', 'braganca', 'ituni', 'samusu', 'tocopilla', 'hobart', 'asau', 'nikolskoye', 'port hardy', 'galgani', 'mehamn', 'hambantota', 'belushya guba', 'perevoz', 'aripuana', 'atuona', 'ushuaia', 'san quintin', 'tsiroanomandidy', 'olafsvik', 'padang', 'ruatoria', 'hilo', 'mataura', 'palmer', 'port elizabeth', 'yuci', 'saint-leu', 'new norfolk', 'umzimvubu', 'adrar', 'aksarka', 'klaksvik', 'guerrero negro', 'mitu', 'busselton', 'husavik', 'sosua', 'tilichiki', 'longyearbyen', 'hermanus', 'tasiilaq', 'mahebourg', 'georgetown', 'barentsburg', 'nago', 'keetmanshoop', 'zonguldak', 'carnarvon', 'kaeo', 'kautokeino', 'alexandria', 'avarua', 'kaitangata', 'kahului', 'rincon', 'pontian kecil', 'jacareacanga', 'katsuura', 'mar del plata', 'ribeira grande', 'hasaki', 'arraial do cabo', 'bengkulu', 'kavieng', 'talcahuano', 'naklo nad notecia', 'sao filipe', 'yuyao', 'bethel', 'torbay', 'barcelos', 'port alfred', 'bluff', 'yellowknife', 'jamestown', 'taiyuan', 'chapais', 'upernavik', 'lolua', 'tombouctou', 'puerto ayora', 'faanui', 'khatanga', 'adilabad', 'rudbar', 'butaritari', 'amderma', 'braniewo', 'carutapera', 'chuy', 'dikson', 'tuatapere', 'provideniya', 'andros town', 'clyde river', 'lebu', 'agutaya', 'marathon', 'bismarck', 'marcona', 'port augusta', 'palabuhanratu', 'lusambo', 'moerai', 'kodiak', 'mayo', 'kapaa', 'along', 'marrakesh', 'saldanha', 'balaka', 'cherskiy', 'orlik', 'punta arenas', 'bredasdorp', 'cam ranh', 'chopinzinho', 'ginir', 'taolanaro', 'kashi', 'juneau', 'ulaanbaatar', 'ambovombe', 'delmas', 'wuning', 'nizhneyansk', 'mizan teferi', 'souillac', 'sheridan', 'college', 'maumere', 'saskylakh', 'roald', 'isangel', 'modasa', 'lorengau', 'nushki', 'podgornoye', 'shimoda', 'kununurra', 'attawapiskat', 'raub', 'havoysund', 'padilla', 'mys shmidta', 'san vicente', 'kavaratti', 'ahipara', 'vadinsk', 'ilulissat', 'jumla', 'tiznit', 'santa rosa', 'polignano a mare', 'bambous virieux', 'westport', 'port macquarie', 'terrace', 'siparia', 'mataram', 'barrow', 'budogoshch', 'savinka', 'lima', 'omboue', 'tual', 'olinda', 'karratha', 'hokitika', 'abay', 'alice springs', 'uvalde', 'ornskoldsvik', 'inongo', 'paita', 'grand river south east', 'agua dulce', 'lavrentiya', 'cap malheureux', 'kharitonovo', 'acapulco', 'severo-yeniseyskiy', 'leningradskiy', 'poum', 'polunochnoye', 'sistranda', 'ocean city', 'outram', 'potiskum', 'touros', 'beringovskiy', 'safonovo', 'aklavik', 'ankazoabo', 'chernyshevskiy', 'saleaula', 'grindavik', 'carman', 'namibe', 'soe', 'eston', 'ostrovnoy', 'margate', 'ancud', 'tautira', 'maragogi', 'kano', 'kamenskoye', 'kousseri', 'bandarbeyla', 'sovetskiy', 'victoria', 'geraldton', 'shushenskoye', 'dodge city', 'kalga', 'tuktoyaktuk', 'doctor pedro p. pena', 'dzilam gonzalez', 'knysna', 'alcains', 'kurumkan', 'karabulak', 'kota bahru', 'kamnik', 'vilyuysk', 'atambua', 'payson', 'calatayud', 'buqayq', 'muscat', 'alta floresta', 'renukut', 'russell', 'walvis bay', 'yumen', 'kawhia', 'sitka', 'bhatkal', 'tawang', 'lingao', 'henties bay', 'porto walter', 'richards bay', 'siuna', 'pimentel', 'doha', 'kiunga', 'cockburn town', 'tevaitoa', 'pangody', 'port blair', 'presidencia roque saenz pena', 'bauchi', 'ust-kuyga', 'banjarmasin', 'saint george', 'mackay', 'coquimbo', 'the pas', 'necochea', 'sabzevar', 'harper', 'mahajanga', 'hithadhoo', 'severo-kurilsk', 'esperance', 'toora-khem', 'gwadar', 'christchurch', 'truro', 'moron', 'norman wells', 'ouesso', 'glogow', 'broome', 'merauke', 'estevan', 'alvinopolis', 'laguna', 'conway', 'phalaborwa', 'cabo san lucas', 'ponta do sol', 'nouadhibou', 'karasjok', 'chagda', 'opobo', 'tumannyy', 'port-gentil', 'los pozos', 'sakakah', 'vila franca do campo', 'ghanaur', 'lata', 'puerto maldonado', 'tidore', 'skegness', 'vila velha', 'fukue', 'fraga', 'anadyr', 'gat', 'tome-acu', 'miri', 'pafos', 'ust-kamchatsk', 'puerto narino', 'arlit', 'komsomolskiy', 'onalaska', 'san cristobal', 'ponta delgada', 'atar', 'pascagoula', 'nanortalik', 'whitehorse', 'hrubieszow', 'solnechnyy', 'lookan', 'takhtamygda', 'meyungs', 'cayenne', 'bocas del toro', 'andevoranto', 'saint anthony', 'santa marinella', 'plettenberg bay', 'harrison', 'provost', 'pontianak', 'lac du bonnet', 'chilca', 'iwanai', 'maceio', 'san buenaventura', 'ayan', 'halalo', 'beloha', 'sampit', 'iqaluit', 'surt', 'kundiawa', 'nishihara', 'rungata', 'grand gaube', 'oksovskiy', 'shrewsbury', 'makarov', 'abu samrah', 'marzuq', 'andenes', 'kapuskasing', 'manakara', 'xichang', 'hamilton', 'coahuayana', 'paamiut', 'manavgat', 'martapura', 'pacific grove', 'half moon bay', 'kyra', 'la ronge', 'marietta', 'kinston', 'hervey bay', 'guangyuan', 'alugan', 'the valley', 'palana', 'haines junction', 'darhan', 'leshukonskoye', 'male', 'avdon', 'vitim', 'tessalit', 'amarante do maranhao', 'valenca do piaui', 'cumaribo', 'nirsa', 'tiksi', 'joshimath', 'vestmannaeyjar', 'sur', 'saint-augustin', 'motygino', 'oriximina', 'north platte', 'soto la marina', 'sacramento', 'cervo', 'belozerskoye', 'warqla', 'goshogawara', 'belmonte', 'prince albert', 'stavyshche', 'danjiangkou', 'ambon', 'kruisfontein', 'tarakan', 'sakaiminato', 'vestmanna', 'ovruch', 'natal', 'awjilah', 'black river', 'brae', 'sumenep', 'vao', 'ola', 'lompoc', 'sarishabari', 'bafra', 'kulhudhuffushi', 'puerto lempira', 'kamenka', 'kodinar', 'hofn', 'tabiauea', 'myingyan', 'polistena', 'maloy', 'rocha', 'hobyo', 'veraval', 'caravelas', 'mishkino', 'falealupo', 'luderitz', 'mount pleasant', 'imuris', 'jalu', 'yaan', 'chupaca', 'binghamton', 'marsh harbour', 'sobolevo', 'puerto carreno', 'wilmington', 'vardo', 'te anau', 'icod de los vinos', 'amga', 'northam', 'kinablangan', 'balabac', 'ellensburg', 'constitucion', 'pemangkat', 'karaul', 'esmeraldas', 'samarai', 'lac-megantic', 'abonnema', 'shache', 'elban', 'beisfjord', 'xapuri', 'black diamond', 'egvekinot', 'grand island', 'develi', 'slubice', 'broken hill', 'kapoeta', 'saint-pierre', 'kisesa', 'ust-koksa', 'san patricio', 'havelock', 'mountain home', 'pachino', 'qasigiannguit', 'manjacaze', 'coaticook', 'burley', 'changping', 'alakurtti', 'penzance', 'xinmin', 'ginda', 'bako', 'pietarsaari', 'savinskiy', 'senneterre', 'totness', 'uberaba', 'grants', 'emerald', 'remontnoye', 'vaitupu', 'batagay-alyta', 'oistins', 'tomari', 'negombo', 'nokaneng', 'prince rupert', 'inhambane', 'xining', 'srivardhan', 'kalmunai', 'kamaishi', 'berlevag', 'shahrud', 'ystad', 'pudozh', 'port shepstone', 'domoni', 'witrivier', 'dalvik', 'sao joao da barra', 'tevriz', 'camalu', 'umm kaddadah', 'cheremukhovo', 'urucara', 'macaboboni', 'nsanje', 'springbok', 'mosetse', 'seoul', 'abdanan', 'lagoa', 'monrovia', 'shellbrook', 'kariba', 'buckeye', 'fare', 'fort nelson', 'nioaque', 'yerbogachen', 'sinnamary', 'wajima', 'alofi', 'morena', 'oudtshoorn', 'tsihombe', 'lubben', 'villa union', 'yulara', 'makakilo city', 'svetlogorsk', 'nemuro', 'houma', 'chifeng', 'ibiruba', 'taloqan', 'honiara', 'panalingaan', 'deputatskiy', 'eureka', 'north bend', 'matara', 'maryborough', 'fortuna', 'upata', 'fatikchhari', 'eyl', 'rundu', 'sibolga', 'sinop', 'paoua', 'george', 'fuerte olimpo', 'bur gabo', 'hirara', 'bambanglipuro', 'sorland', 'guiglo', 'namwala', 'nome', 'mallama', 'turayf', 'matamoros', 'jiazi', 'zimovniki', 'ostersund', 'riverton', 'den helder', 'burnie', 'salinopolis', 'anito', 'camocim', 'inverell', 'torquay', 'talnakh', 'haicheng', 'codrington', 'airai', 'akdepe', 'mocambique', 'sosnovo-ozerskoye', 'powell river', 'ketchikan', 'fairbanks', 'cabedelo', 'vostok', 'faya', 'ilhabela', 'praia da vitoria', 'zykovo']\n"
     ]
    }
   ],
   "source": [
    "print(cities)"
   ]
  },
  {
   "cell_type": "code",
   "execution_count": 14,
   "metadata": {},
   "outputs": [],
   "source": [
    "#Perform a weather check on each city using a series of successive API calls."
   ]
  },
  {
   "cell_type": "code",
   "execution_count": null,
   "metadata": {},
   "outputs": [],
   "source": [
    "# set up lists to hold reponse info\n",
    "lat = []\n",
    "temp = []\n",
    "\n",
    "# Loop through the list of cities and perform a request for data on each\n",
    "for city in cities:\n",
    "    response = requests.get(query_url + city).json()\n",
    "    lat.append(response['coord']['lat'])\n",
    "    temp.append(response['main']['temp'])\n",
    "\n",
    "print(f\"The latitude information received is: {lat}\")\n",
    "print(f\"The temperature information received is: {temp}\")"
   ]
  },
  {
   "cell_type": "code",
   "execution_count": 28,
   "metadata": {},
   "outputs": [
    {
     "name": "stdout",
     "output_type": "stream",
     "text": [
      "Processing Record 1 | Qaanaaq\n",
      "Processing Record 2 | Albany\n",
      "Processing Record 3 | Saint-Philippe\n",
      "Processing Record 4 | Champerico\n",
      "Processing Record 5 | Vaini\n",
      "Processing Record 6 | Narsaq\n",
      "City not found.\n",
      "Processing Record 7 | Pevek\n",
      "Processing Record 8 | Cape Town\n",
      "City not found.\n",
      "Processing Record 9 | Windsor\n",
      "City not found.\n",
      "Processing Record 10 | Paragominas\n",
      "Processing Record 11 | Chokurdakh\n",
      "Processing Record 12 | Bubaque\n",
      "Processing Record 13 | Rikitea\n",
      "Processing Record 14 | East London\n",
      "Processing Record 15 | Castro\n",
      "Processing Record 16 | Daru\n",
      "Processing Record 17 | Sherbakul'\n",
      "Processing Record 18 | Thompson\n",
      "City not found.\n",
      "Processing Record 19 | Bragança\n",
      "City not found.\n",
      "City not found.\n",
      "Processing Record 20 | Tocopilla\n",
      "Processing Record 21 | Hobart\n",
      "Processing Record 22 | Asău\n",
      "Processing Record 23 | Nikolskoye\n",
      "Processing Record 24 | Port Hardy\n",
      "City not found.\n",
      "Processing Record 25 | Mehamn\n",
      "Processing Record 26 | Hambantota\n",
      "City not found.\n",
      "Processing Record 27 | Perevoz\n",
      "Processing Record 28 | Aripuanã\n",
      "Processing Record 29 | Atuona\n",
      "Processing Record 30 | Ushuaia\n",
      "Processing Record 31 | San Quintín\n",
      "Processing Record 32 | Tsiroanomandidy\n",
      "Processing Record 33 | Olafsvik\n",
      "Processing Record 34 | Padang\n",
      "City not found.\n",
      "Processing Record 35 | Hilo\n",
      "Processing Record 36 | Mataura\n",
      "Processing Record 37 | Palmer\n",
      "Processing Record 38 | Port Elizabeth\n",
      "Processing Record 39 | Yuci\n",
      "Processing Record 40 | Saint-Leu\n",
      "Processing Record 41 | New Norfolk\n",
      "City not found.\n",
      "Processing Record 42 | Adrar\n",
      "Processing Record 43 | Aksarka\n",
      "Processing Record 44 | Klaksvík\n",
      "Processing Record 45 | Guerrero Negro\n",
      "Processing Record 46 | Mitú\n",
      "Processing Record 47 | Busselton\n",
      "Processing Record 48 | Husavik\n",
      "Processing Record 49 | El Batey\n",
      "Processing Record 50 | Tilichiki\n",
      "Processing Record 51 | Longyearbyen\n",
      "Processing Record 52 | Hermanus\n",
      "Processing Record 53 | Tasiilaq\n",
      "Processing Record 54 | Mahébourg\n",
      "Processing Record 55 | George Town\n",
      "City not found.\n",
      "Processing Record 56 | Nago\n",
      "Processing Record 57 | Keetmanshoop\n",
      "Processing Record 58 | Zonguldak\n",
      "Processing Record 59 | Carnarvon\n",
      "Processing Record 60 | Kaeo\n",
      "Processing Record 61 | Kautokeino\n",
      "Processing Record 62 | Alexandria\n",
      "Processing Record 63 | Avarua\n",
      "Processing Record 64 | Kaitangata\n",
      "Processing Record 65 | Kahului\n",
      "Processing Record 66 | Rincon\n",
      "Processing Record 67 | Pontian Kecil\n",
      "Processing Record 68 | Jacareacanga\n",
      "Processing Record 69 | Katsuura\n",
      "Processing Record 70 | Mar del Plata\n",
      "Processing Record 71 | Ribeira Grande\n",
      "Processing Record 72 | Hasaki\n",
      "Processing Record 73 | Arraial do Cabo\n",
      "Processing Record 74 | Bengkulu\n",
      "Processing Record 75 | Kavieng\n",
      "Processing Record 76 | Talcahuano\n",
      "Processing Record 77 | Nakło nad Notecią\n",
      "Processing Record 78 | São Filipe\n",
      "Processing Record 79 | Yuyao\n",
      "Processing Record 80 | Bethel\n",
      "Processing Record 81 | Torbay\n",
      "Processing Record 82 | Barcelos\n",
      "Processing Record 83 | Port Alfred\n",
      "Processing Record 84 | Bluff\n",
      "Processing Record 85 | Yellowknife\n",
      "Processing Record 86 | Jamestown\n",
      "Processing Record 87 | Taiyuan\n",
      "Processing Record 88 | Chapais\n",
      "Processing Record 89 | Upernavik\n",
      "City not found.\n",
      "Processing Record 90 | Tombouctou\n",
      "Processing Record 91 | Puerto Ayora\n",
      "Processing Record 92 | Faanui\n",
      "Processing Record 93 | Khatanga\n",
      "Processing Record 94 | Adilabad\n",
      "Processing Record 95 | Rūdbār\n",
      "Processing Record 96 | Butaritari\n",
      "City not found.\n",
      "Processing Record 97 | Braniewo\n",
      "Processing Record 98 | Carutapera\n",
      "Processing Record 99 | Chui\n",
      "Processing Record 100 | Dikson\n",
      "Processing Record 101 | Tuatapere\n",
      "Processing Record 102 | Provideniya\n",
      "Processing Record 103 | Andros Town\n",
      "Processing Record 104 | Clyde River\n",
      "Processing Record 105 | Lebu\n",
      "Processing Record 106 | Agutaya\n",
      "Processing Record 107 | Marathon\n",
      "Processing Record 108 | Bismarck\n",
      "City not found.\n",
      "Processing Record 109 | Port Augusta\n",
      "City not found.\n",
      "Processing Record 110 | Lusambo\n",
      "Processing Record 111 | Moerai\n",
      "Processing Record 112 | Saint Paul Harbor\n",
      "Processing Record 113 | Mayo\n",
      "Processing Record 114 | Kapaa\n",
      "Processing Record 115 | Along\n",
      "Processing Record 116 | Marrakesh\n",
      "Processing Record 117 | Saldanha\n",
      "Processing Record 118 | Balaka\n",
      "Processing Record 119 | Cherskiy\n",
      "Processing Record 120 | Orlik\n",
      "Processing Record 121 | Punta Arenas\n",
      "Processing Record 122 | Bredasdorp\n",
      "Processing Record 123 | Cam Ranh\n",
      "Processing Record 124 | Chopinzinho\n",
      "Processing Record 125 | Ginir\n",
      "City not found.\n",
      "Processing Record 126 | Kashgar\n",
      "Processing Record 127 | Juneau\n",
      "Processing Record 128 | Ulaanbaatar\n",
      "Processing Record 129 | Ambovombe\n",
      "Processing Record 130 | Delmas 73\n",
      "Processing Record 131 | Wuning\n",
      "City not found.\n",
      "Processing Record 132 | Mīzan Teferī\n",
      "Processing Record 133 | Souillac\n",
      "Processing Record 134 | Sheridan\n",
      "Processing Record 135 | College\n",
      "Processing Record 136 | Maumere\n",
      "Processing Record 137 | Saskylakh\n",
      "Processing Record 138 | Roald\n",
      "Processing Record 139 | Isangel\n",
      "Processing Record 140 | Modāsa\n",
      "Processing Record 141 | Lorengau\n",
      "Processing Record 142 | Nushki\n",
      "Processing Record 143 | Podgornoye\n",
      "Processing Record 144 | Shimoda\n",
      "Processing Record 145 | Kununurra\n",
      "City not found.\n",
      "Processing Record 146 | Raub\n",
      "Processing Record 147 | Havøysund\n",
      "Processing Record 148 | Padilla\n",
      "City not found.\n",
      "Processing Record 149 | San Vicente\n",
      "Processing Record 150 | Kavaratti\n",
      "Processing Record 151 | Ahipara\n",
      "Processing Record 152 | Vadinsk\n",
      "Processing Record 153 | Ilulissat\n",
      "Processing Record 154 | Jumla\n",
      "Processing Record 155 | Tiznit Province\n",
      "Processing Record 156 | Santa Rosa\n",
      "Processing Record 157 | Polignano a Mare\n",
      "Processing Record 158 | Bambous Virieux\n",
      "Processing Record 159 | Westport\n",
      "Processing Record 160 | Port Macquarie\n",
      "Processing Record 161 | Terrace\n",
      "Processing Record 162 | Siparia\n",
      "Processing Record 163 | Mataram\n",
      "Processing Record 164 | Barrow\n",
      "Processing Record 165 | Budogoshch'\n",
      "Processing Record 166 | Savinka\n",
      "Processing Record 167 | Lima\n",
      "Processing Record 168 | Omboué\n",
      "Processing Record 169 | Tual\n",
      "Processing Record 170 | Olinda\n",
      "Processing Record 171 | Karratha\n",
      "Processing Record 172 | Hokitika\n",
      "Processing Record 173 | Abay\n",
      "Processing Record 174 | Alice Springs\n",
      "Processing Record 175 | Uvalde\n",
      "Processing Record 176 | Örnsköldsvik\n",
      "Processing Record 177 | Inongo\n",
      "Processing Record 178 | Paita\n",
      "City not found.\n",
      "Processing Record 179 | Agua Dulce\n",
      "Processing Record 180 | Lavrentiya\n",
      "Processing Record 181 | Cap Malheureux\n",
      "Processing Record 182 | Kharitonovo\n",
      "Processing Record 183 | Acapulco de Juárez\n",
      "Processing Record 184 | Severo-Yeniseyskiy\n",
      "Processing Record 185 | Leningradskiy\n",
      "Processing Record 186 | Poum\n",
      "Processing Record 187 | Polunochnoye\n",
      "Processing Record 188 | Sistranda\n",
      "Processing Record 189 | Ocean City\n",
      "Processing Record 190 | Outram\n",
      "Processing Record 191 | Potiskum\n",
      "Processing Record 192 | Touros\n",
      "Processing Record 193 | Beringovskiy\n",
      "Processing Record 194 | Safonovo\n",
      "Processing Record 195 | Aklavik\n",
      "Processing Record 196 | Ankazoabo\n",
      "Processing Record 197 | Chernyshevskiy\n",
      "City not found.\n",
      "Processing Record 198 | Grindavik\n",
      "Processing Record 199 | Carman\n",
      "Processing Record 200 | Mossamedes\n",
      "Processing Record 201 | Soe\n",
      "Processing Record 202 | Eston\n",
      "Processing Record 203 | Ostrovnoy\n",
      "Processing Record 204 | Margate\n",
      "Processing Record 205 | Ancud\n",
      "Processing Record 206 | Tautira\n",
      "Processing Record 207 | Maragogi\n",
      "Processing Record 208 | Kano\n",
      "City not found.\n",
      "Processing Record 209 | Kousséri\n",
      "Processing Record 210 | Bandarbeyla\n",
      "Processing Record 211 | Sovetskiy\n",
      "Processing Record 212 | Hong Kong\n",
      "Processing Record 213 | Geraldton\n",
      "Processing Record 214 | Shushenskoye\n",
      "Processing Record 215 | Dodge City\n",
      "Processing Record 216 | Kalga\n",
      "Processing Record 217 | Tuktoyaktuk\n",
      "City not found.\n",
      "Processing Record 218 | Dzilam González\n",
      "Processing Record 219 | Knysna\n",
      "Processing Record 220 | Alcains\n",
      "Processing Record 221 | Kurumkan\n",
      "Processing Record 222 | Karabulak\n",
      "Processing Record 223 | Kota Bharu\n",
      "Processing Record 224 | Kamnik\n",
      "Processing Record 225 | Vilyuysk\n",
      "Processing Record 226 | Atambua\n",
      "Processing Record 227 | Payson\n",
      "Processing Record 228 | Calatayud\n",
      "City not found.\n",
      "Processing Record 229 | Muscat\n",
      "Processing Record 230 | Alta Floresta\n",
      "Processing Record 231 | Renukoot\n",
      "Processing Record 232 | Russell\n",
      "Processing Record 233 | Walvis Bay\n",
      "Processing Record 234 | Yumen\n",
      "Processing Record 235 | Kawhia\n",
      "Processing Record 236 | Sitka\n",
      "Processing Record 237 | Bhatkal\n",
      "Processing Record 238 | Tawang Town\n",
      "Processing Record 239 | Lingao\n",
      "Processing Record 240 | Henties Bay\n",
      "Processing Record 241 | Porto Walter\n",
      "Processing Record 242 | Richards Bay\n",
      "Processing Record 243 | Siuna\n",
      "Processing Record 244 | Pimentel\n",
      "Processing Record 245 | Doha\n",
      "Processing Record 246 | Kiunga\n",
      "Processing Record 247 | Cockburn Town\n",
      "Processing Record 248 | Tevaitoa\n",
      "Processing Record 249 | Pangody\n",
      "Processing Record 250 | Port Blair\n",
      "Processing Record 251 | Presidencia Roque Sáenz Peña\n",
      "Processing Record 252 | Bauchi\n",
      "Processing Record 253 | Ust-Kuyga\n",
      "Processing Record 254 | Banjarmasin\n",
      "Processing Record 255 | Saint George\n",
      "Processing Record 256 | Mackay\n",
      "Processing Record 257 | Coquimbo\n",
      "Processing Record 258 | The Pas\n",
      "Processing Record 259 | Necochea\n",
      "Processing Record 260 | Sabzawār\n",
      "Processing Record 261 | Harper\n",
      "Processing Record 262 | Mahajanga\n",
      "Processing Record 263 | Hithadhoo\n",
      "Processing Record 264 | Severo-Kuril'sk\n",
      "Processing Record 265 | Esperance\n",
      "Processing Record 266 | Toora-Khem\n",
      "Processing Record 267 | Gwadar\n",
      "Processing Record 268 | Christchurch\n",
      "Processing Record 269 | Truro\n",
      "Processing Record 270 | Morón\n",
      "Processing Record 271 | Norman Wells\n",
      "Processing Record 272 | Ouésso\n",
      "Processing Record 273 | Głogów\n",
      "Processing Record 274 | Broome\n",
      "Processing Record 275 | Merauke\n",
      "Processing Record 276 | Estevan\n",
      "Processing Record 277 | Alvinópolis\n",
      "Processing Record 278 | Laguna\n",
      "Processing Record 279 | Conway\n",
      "Processing Record 280 | Phalaborwa\n",
      "Processing Record 281 | Cabo San Lucas\n",
      "Processing Record 282 | Ponta do Sol\n",
      "Processing Record 283 | Nouadhibou\n",
      "Processing Record 284 | Karasjok\n",
      "City not found.\n",
      "City not found.\n",
      "City not found.\n",
      "Processing Record 285 | Port-Gentil\n",
      "Processing Record 286 | Los Pozos\n",
      "Processing Record 287 | Sakakah\n",
      "Processing Record 288 | Vila Franca do Campo\n",
      "Processing Record 289 | Ghanaur\n",
      "Processing Record 290 | Lata\n",
      "Processing Record 291 | Puerto Maldonado\n",
      "City not found.\n",
      "Processing Record 292 | Skegness\n",
      "Processing Record 293 | Vila Velha\n",
      "Processing Record 294 | Fukuechō\n",
      "Processing Record 295 | Fraga\n",
      "Processing Record 296 | Anadyr\n",
      "Processing Record 297 | Kiryat Gat\n",
      "City not found.\n",
      "Processing Record 298 | Marabu\n",
      "Processing Record 299 | Paphos\n",
      "City not found.\n",
      "Processing Record 300 | Puerto Nariño\n",
      "Processing Record 301 | Arlit\n",
      "Processing Record 302 | Yangi Marg`ilon\n",
      "Processing Record 303 | Onalaska\n",
      "Processing Record 304 | San Cristobal\n",
      "Processing Record 305 | Ponta Delgada\n",
      "Processing Record 306 | Atar\n",
      "Processing Record 307 | Pascagoula\n",
      "Processing Record 308 | Nanortalik\n",
      "Processing Record 309 | Whitehorse\n",
      "Processing Record 310 | Hrubieszów\n",
      "Processing Record 311 | Solnechnyy\n",
      "Processing Record 312 | Lookan\n",
      "Processing Record 313 | Takhtamygda\n",
      "City not found.\n",
      "Processing Record 314 | Cayenne\n",
      "Processing Record 315 | Bocas del Toro\n",
      "City not found.\n",
      "Processing Record 316 | Saint Anthony\n",
      "Processing Record 317 | Santa Marinella\n",
      "Processing Record 318 | Plettenberg Bay\n",
      "Processing Record 319 | Harrison\n",
      "Processing Record 320 | Provost\n",
      "Processing Record 321 | Pontianak\n",
      "Processing Record 322 | Lac du Bonnet\n",
      "Processing Record 323 | Chilca\n",
      "Processing Record 324 | Iwanai\n",
      "Processing Record 325 | Maceió\n",
      "Processing Record 326 | San Buenaventura\n",
      "Processing Record 327 | Ayan\n",
      "City not found.\n",
      "Processing Record 328 | Beloha\n",
      "Processing Record 329 | Sampit\n",
      "Processing Record 330 | Iqaluit\n",
      "Processing Record 331 | Sirte\n",
      "Processing Record 332 | Kundiawa\n",
      "Processing Record 333 | Nishihara\n",
      "City not found.\n",
      "Processing Record 334 | Grand Gaube\n",
      "Processing Record 335 | Oksovskiy\n",
      "Processing Record 336 | Shrewsbury\n",
      "Processing Record 337 | Makarov\n",
      "Processing Record 338 | Abu Samrah\n",
      "Processing Record 339 | Marzuq\n",
      "Processing Record 340 | Andenes\n",
      "Processing Record 341 | Kapuskasing\n",
      "Processing Record 342 | Manakara\n",
      "Processing Record 343 | Xichang\n",
      "Processing Record 344 | Hamilton\n",
      "Processing Record 345 | Coahuayana Viejo\n",
      "Processing Record 346 | Paamiut\n",
      "Processing Record 347 | Manavgat\n",
      "Processing Record 348 | Martapura\n",
      "Processing Record 349 | Pacific Grove\n",
      "Processing Record 350 | Half Moon Bay\n",
      "Processing Record 351 | Kyra\n",
      "Processing Record 352 | La Ronge\n",
      "Processing Record 353 | Marietta\n",
      "Processing Record 354 | Kinston\n",
      "Processing Record 355 | Hervey Bay\n",
      "Processing Record 356 | Guangyuan\n",
      "Processing Record 357 | Alugan\n",
      "Processing Record 358 | The Valley\n",
      "Processing Record 359 | Palana\n",
      "Processing Record 360 | Haines Junction\n",
      "Processing Record 361 | Darhan\n",
      "Processing Record 362 | Leshukonskoye\n",
      "Processing Record 363 | Malé\n",
      "Processing Record 364 | Avdon\n",
      "Processing Record 365 | Vitim\n",
      "Processing Record 366 | Tessalit\n",
      "Processing Record 367 | Amarante do Maranhão\n",
      "Processing Record 368 | Valença do Piauí\n",
      "City not found.\n",
      "Processing Record 369 | Nirsā\n",
      "Processing Record 370 | Tiksi\n",
      "Processing Record 371 | Joshīmath\n",
      "Processing Record 372 | Vestmannaeyjar\n",
      "Processing Record 373 | Sur\n",
      "Processing Record 374 | Saint-Augustin\n",
      "Processing Record 375 | Motygino\n",
      "Processing Record 376 | Oriximiná\n",
      "Processing Record 377 | North Platte\n",
      "Processing Record 378 | Soto la Marina\n",
      "Processing Record 379 | Sacramento\n",
      "Processing Record 380 | Cervo\n",
      "Processing Record 381 | Belozërskoye\n",
      "City not found.\n",
      "Processing Record 382 | Goshogawara\n",
      "Processing Record 383 | Belmonte\n",
      "Processing Record 384 | Prince Albert\n",
      "Processing Record 385 | Stavyshche\n",
      "Processing Record 386 | Danjiangkou\n",
      "Processing Record 387 | Ambon City\n",
      "Processing Record 388 | Kruisfontein\n",
      "Processing Record 389 | Tarakan\n",
      "Processing Record 390 | Sakaiminato\n",
      "Processing Record 391 | Vestmanna\n",
      "Processing Record 392 | Ovruch\n",
      "Processing Record 393 | Natal\n",
      "Processing Record 394 | Awjilah\n",
      "Processing Record 395 | Black River\n",
      "Processing Record 396 | Brae\n",
      "Processing Record 397 | Sumenep\n",
      "Processing Record 398 | Vao\n",
      "Processing Record 399 | Ola\n",
      "Processing Record 400 | Lompoc\n",
      "Processing Record 401 | Sarishābāri\n",
      "Processing Record 402 | Bafra\n",
      "Processing Record 403 | Kulhudhuffushi\n",
      "Processing Record 404 | Puerto Lempira\n",
      "Processing Record 405 | Kamenka\n",
      "Processing Record 406 | Kodīnar\n",
      "Processing Record 407 | Hofn\n",
      "City not found.\n",
      "Processing Record 408 | Myingyan\n",
      "Processing Record 409 | Polistena\n",
      "Processing Record 410 | Måløy\n",
      "Processing Record 411 | Rocha\n",
      "Processing Record 412 | Hobyo\n",
      "Processing Record 413 | Verāval\n",
      "Processing Record 414 | Caravelas\n",
      "Processing Record 415 | Mishkino\n",
      "City not found.\n",
      "Processing Record 416 | Lüderitz\n",
      "Processing Record 417 | Mt. Pleasant\n",
      "Processing Record 418 | Imuris\n",
      "Processing Record 419 | Jalu\n",
      "Processing Record 420 | Yaan\n",
      "Processing Record 421 | Chupaca\n",
      "Processing Record 422 | Binghamton\n",
      "Processing Record 423 | Marsh Harbour\n",
      "Processing Record 424 | Sobolevo\n",
      "Processing Record 425 | Puerto Carreño\n",
      "Processing Record 426 | Wilmington\n",
      "Processing Record 427 | Vardø\n",
      "Processing Record 428 | Te Anau\n",
      "Processing Record 429 | Icod de los Vinos\n",
      "Processing Record 430 | Amga\n",
      "Processing Record 431 | Northam\n",
      "Processing Record 432 | Kinablangan\n",
      "Processing Record 433 | Balabac\n",
      "Processing Record 434 | Ellensburg\n",
      "Processing Record 435 | Constitución\n",
      "Processing Record 436 | Pemangkat\n",
      "City not found.\n",
      "Processing Record 437 | Esmeraldas\n",
      "Processing Record 438 | Samarai\n",
      "Processing Record 439 | Lac-Mégantic\n",
      "Processing Record 440 | Abonnema\n",
      "Processing Record 441 | Shache\n",
      "Processing Record 442 | Elban\n",
      "Processing Record 443 | Beisfjord\n",
      "Processing Record 444 | Xapuri\n",
      "Processing Record 445 | Black Diamond\n",
      "Processing Record 446 | Egvekinot\n",
      "Processing Record 447 | Grand Island\n",
      "Processing Record 448 | Develi\n",
      "Processing Record 449 | Słubice\n",
      "Processing Record 450 | Broken Hill\n",
      "Processing Record 451 | Kapoeta\n",
      "Processing Record 452 | Saint-Pierre\n",
      "Processing Record 453 | Kisesa\n",
      "Processing Record 454 | Ust'-Koksa\n",
      "Processing Record 455 | San Patricio\n",
      "Processing Record 456 | Havelock\n",
      "Processing Record 457 | Mountain Home\n",
      "Processing Record 458 | Pachino\n",
      "Processing Record 459 | Qasigiannguit\n",
      "Processing Record 460 | Manjacaze\n",
      "Processing Record 461 | Coaticook\n",
      "Processing Record 462 | Burley\n",
      "Processing Record 463 | Changping\n",
      "Processing Record 464 | Alakurtti\n",
      "Processing Record 465 | Penzance\n",
      "Processing Record 466 | Xinmin\n",
      "Processing Record 467 | Ginda\n",
      "Processing Record 468 | Bako\n",
      "Processing Record 469 | Pedersore\n",
      "Processing Record 470 | Savinskiy\n",
      "Processing Record 471 | Senneterre\n",
      "Processing Record 472 | Totness\n",
      "Processing Record 473 | Uberaba\n",
      "Processing Record 474 | Grants\n",
      "Processing Record 475 | Emerald\n",
      "Processing Record 476 | Remontnoye\n",
      "City not found.\n",
      "Processing Record 477 | Batagay-Alyta\n",
      "Processing Record 478 | Oistins\n",
      "Processing Record 479 | Tomari\n",
      "Processing Record 480 | Negombo\n",
      "Processing Record 481 | Nokaneng\n",
      "Processing Record 482 | Prince Rupert\n",
      "Processing Record 483 | Inhambane\n",
      "Processing Record 484 | Xining\n",
      "Processing Record 485 | Srīvardhan\n",
      "Processing Record 486 | Kalmunai\n",
      "Processing Record 487 | Kamaishi\n",
      "Processing Record 488 | Berlevåg\n",
      "Processing Record 489 | Shahrud\n",
      "Processing Record 490 | Ystad\n",
      "Processing Record 491 | Pudozh\n",
      "Processing Record 492 | Port Shepstone\n",
      "Processing Record 493 | Domoni\n",
      "City not found.\n",
      "Processing Record 494 | Dalvik\n",
      "Processing Record 495 | São João da Barra\n",
      "Processing Record 496 | Tevriz\n",
      "Processing Record 497 | Camalú\n",
      "Processing Record 498 | Umm Kaddadah\n",
      "Processing Record 499 | Cherëmukhovo\n",
      "Processing Record 500 | Urucará\n",
      "City not found.\n",
      "Processing Record 501 | Nsanje\n",
      "Processing Record 502 | Springbok\n",
      "Processing Record 503 | Mosetse\n",
      "Processing Record 504 | Seoul\n",
      "Processing Record 505 | Ābdānān\n",
      "Processing Record 506 | Lagoa\n",
      "Processing Record 507 | Monrovia\n",
      "Processing Record 508 | Shellbrook\n",
      "Processing Record 509 | Kariba\n",
      "Processing Record 510 | Buckeye\n",
      "Processing Record 511 | Fare\n",
      "Processing Record 512 | Fort Nelson\n",
      "Processing Record 513 | Nioaque\n",
      "Processing Record 514 | Yerbogachën\n",
      "Processing Record 515 | Sinnamary\n",
      "Processing Record 516 | Wajima\n",
      "Processing Record 517 | Alofi\n",
      "Processing Record 518 | Morena\n",
      "Processing Record 519 | Oudtshoorn\n",
      "City not found.\n",
      "Processing Record 520 | Lübben\n",
      "Processing Record 521 | Villa Unión\n",
      "Processing Record 522 | Yulara\n",
      "Processing Record 523 | Makakilo City\n",
      "Processing Record 524 | Forsytheganj\n",
      "Processing Record 525 | Nemuro\n",
      "Processing Record 526 | Houma\n",
      "Processing Record 527 | Chifeng\n",
      "Processing Record 528 | Ibirubá\n",
      "Processing Record 529 | Taloqan\n",
      "Processing Record 530 | Honiara\n",
      "Processing Record 531 | Panalingaan\n",
      "Processing Record 532 | Deputatsky\n",
      "Processing Record 533 | Eureka\n",
      "Processing Record 534 | North Bend\n",
      "Processing Record 535 | Matara\n",
      "Processing Record 536 | Maryborough\n",
      "Processing Record 537 | Fortuna\n",
      "Processing Record 538 | Upata\n",
      "City not found.\n",
      "Processing Record 539 | Eyl\n",
      "Processing Record 540 | Rundu\n",
      "Processing Record 541 | Sibolga\n",
      "Processing Record 542 | Sinop Province\n",
      "Processing Record 543 | Paoua\n",
      "Processing Record 544 | George\n",
      "Processing Record 545 | Fuerte Olimpo\n",
      "City not found.\n",
      "Processing Record 546 | Hirara\n",
      "Processing Record 547 | Bambanglipuro\n",
      "Processing Record 548 | Sørland\n",
      "Processing Record 549 | Guiglo\n",
      "Processing Record 550 | Namwala\n",
      "Processing Record 551 | Nome\n",
      "City not found.\n",
      "Processing Record 552 | Turaif\n",
      "Processing Record 553 | Matamoros\n",
      "Processing Record 554 | Jiazi\n",
      "Processing Record 555 | Zimovniki\n",
      "Processing Record 556 | Östersund\n",
      "Processing Record 557 | Riverton\n",
      "Processing Record 558 | Den Helder\n",
      "Processing Record 559 | Burnie\n",
      "Processing Record 560 | Salinópolis\n",
      "Processing Record 561 | Anito\n",
      "Processing Record 562 | Camocim\n",
      "Processing Record 563 | Inverell\n",
      "Processing Record 564 | Torquay\n",
      "Processing Record 565 | Talnakh\n",
      "Processing Record 566 | Haicheng\n",
      "Processing Record 567 | Codrington\n",
      "Processing Record 568 | Airai\n",
      "Processing Record 569 | Akdepe\n",
      "City not found.\n",
      "Processing Record 570 | Sosnovo-Ozerskoye\n",
      "Processing Record 571 | Powell River\n",
      "Processing Record 572 | Ketchikan\n",
      "Processing Record 573 | Fairbanks\n",
      "Processing Record 574 | Cabedelo\n",
      "Processing Record 575 | Vostok\n",
      "Processing Record 576 | Faya\n",
      "Processing Record 577 | Ilhabela\n",
      "Processing Record 578 | Praia da Vitória\n",
      "Processing Record 579 | Zykovo\n"
     ]
    }
   ],
   "source": [
    "# Set up lists to hold response info\n",
    "city_name = []\n",
    "country = []\n",
    "latitude = []\n",
    "longitude = []\n",
    "temperature = []\n",
    "humidity = []\n",
    "cloudiness = []\n",
    "wind_speed = []\n",
    "\n",
    "# Processing Record Counter Starting a 1\n",
    "processing_record = 1\n",
    "\n",
    "# Loop Through List of Cities & Perform a Request for Data on Each\n",
    "for city in cities:\n",
    "\n",
    "# Exception Handling\n",
    "    try:\n",
    "        response = requests.get(query_url + city).json()\n",
    "        city_name.append(response[\"name\"])\n",
    "        country.append(response[\"sys\"][\"country\"])\n",
    "        latitude.append(response[\"coord\"][\"lat\"])\n",
    "        longitude.append(response[\"coord\"][\"lon\"])\n",
    "        temperature.append(response[\"main\"][\"temp_max\"])\n",
    "        humidity.append(response[\"main\"][\"humidity\"])\n",
    "        cloudiness.append(response[\"clouds\"][\"all\"])\n",
    "        wind_speed.append(response[\"wind\"][\"speed\"])\n",
    "        city_record = response[\"name\"]\n",
    "        print(f\"Processing Record {processing_record} | {city_record}\")\n",
    "        \n",
    "        # Increase Processing Record Counter by 1 For Each Loop\n",
    "        processing_record += 1\n",
    "        \n",
    "    except:\n",
    "        print(\"City not found.\") \n",
    "    continue"
   ]
  },
  {
   "cell_type": "code",
   "execution_count": 29,
   "metadata": {},
   "outputs": [
    {
     "name": "stdout",
     "output_type": "stream",
     "text": [
      "The weather API responded with: {'coord': {'lon': 57.5167, 'lat': -20.5167}, 'weather': [{'id': 802, 'main': 'Clouds', 'description': 'scattered clouds', 'icon': '03d'}], 'base': 'stations', 'main': {'temp': 71.98, 'feels_like': 72.07, 'temp_min': 68.36, 'temp_max': 71.98, 'pressure': 1023, 'humidity': 68}, 'visibility': 10000, 'wind': {'speed': 12.66, 'deg': 160}, 'clouds': {'all': 40}, 'dt': 1624159850, 'sys': {'type': 1, 'id': 2061, 'country': 'MU', 'sunrise': 1624157094, 'sunset': 1624196282}, 'timezone': 14400, 'id': 933995, 'name': 'Souillac', 'cod': 200}.\n"
     ]
    }
   ],
   "source": [
    "# Get the temperature from the response\n",
    "print(f\"The weather API responded with: {weather_json}.\")"
   ]
  },
  {
   "cell_type": "markdown",
   "metadata": {},
   "source": [
    "### Convert Raw Data to DataFrame\n",
    "* Export the city data into a .csv.\n",
    "* Display the DataFrame"
   ]
  },
  {
   "cell_type": "code",
   "execution_count": null,
   "metadata": {},
   "outputs": [],
   "source": [
    "# create a data frame from cities, lat, and temp\n",
    "weather_dict = {\n",
    "    \"city\": cities,\n",
    "    \"lat\": lat,\n",
    "    \"temp\": temp\n",
    "}\n",
    "weather_data = pd.DataFrame(weather_dict)\n",
    "weather_data.head()"
   ]
  },
  {
   "cell_type": "code",
   "execution_count": 31,
   "metadata": {},
   "outputs": [
    {
     "data": {
      "text/html": [
       "<div>\n",
       "<style scoped>\n",
       "    .dataframe tbody tr th:only-of-type {\n",
       "        vertical-align: middle;\n",
       "    }\n",
       "\n",
       "    .dataframe tbody tr th {\n",
       "        vertical-align: top;\n",
       "    }\n",
       "\n",
       "    .dataframe thead th {\n",
       "        text-align: right;\n",
       "    }\n",
       "</style>\n",
       "<table border=\"1\" class=\"dataframe\">\n",
       "  <thead>\n",
       "    <tr style=\"text-align: right;\">\n",
       "      <th></th>\n",
       "      <th>City</th>\n",
       "      <th>Country</th>\n",
       "      <th>Latitude</th>\n",
       "      <th>Longitude</th>\n",
       "      <th>Temperature</th>\n",
       "      <th>Humidity</th>\n",
       "      <th>Cloudiness</th>\n",
       "      <th>Wind Speed</th>\n",
       "    </tr>\n",
       "  </thead>\n",
       "  <tbody>\n",
       "    <tr>\n",
       "      <th>0</th>\n",
       "      <td>Qaanaaq</td>\n",
       "      <td>GL</td>\n",
       "      <td>77.4840</td>\n",
       "      <td>-69.3632</td>\n",
       "      <td>35.71</td>\n",
       "      <td>62</td>\n",
       "      <td>4</td>\n",
       "      <td>1.16</td>\n",
       "    </tr>\n",
       "    <tr>\n",
       "      <th>1</th>\n",
       "      <td>Albany</td>\n",
       "      <td>US</td>\n",
       "      <td>42.6001</td>\n",
       "      <td>-73.9662</td>\n",
       "      <td>71.47</td>\n",
       "      <td>82</td>\n",
       "      <td>99</td>\n",
       "      <td>3.96</td>\n",
       "    </tr>\n",
       "    <tr>\n",
       "      <th>2</th>\n",
       "      <td>Saint-Philippe</td>\n",
       "      <td>RE</td>\n",
       "      <td>-21.3585</td>\n",
       "      <td>55.7679</td>\n",
       "      <td>67.21</td>\n",
       "      <td>72</td>\n",
       "      <td>73</td>\n",
       "      <td>13.78</td>\n",
       "    </tr>\n",
       "    <tr>\n",
       "      <th>3</th>\n",
       "      <td>Champerico</td>\n",
       "      <td>GT</td>\n",
       "      <td>14.3000</td>\n",
       "      <td>-91.9167</td>\n",
       "      <td>82.35</td>\n",
       "      <td>78</td>\n",
       "      <td>100</td>\n",
       "      <td>4.61</td>\n",
       "    </tr>\n",
       "    <tr>\n",
       "      <th>4</th>\n",
       "      <td>Vaini</td>\n",
       "      <td>TO</td>\n",
       "      <td>-21.2000</td>\n",
       "      <td>-175.2000</td>\n",
       "      <td>78.96</td>\n",
       "      <td>83</td>\n",
       "      <td>20</td>\n",
       "      <td>5.75</td>\n",
       "    </tr>\n",
       "  </tbody>\n",
       "</table>\n",
       "</div>"
      ],
      "text/plain": [
       "             City Country  Latitude  Longitude  Temperature  Humidity  \\\n",
       "0         Qaanaaq      GL   77.4840   -69.3632        35.71        62   \n",
       "1          Albany      US   42.6001   -73.9662        71.47        82   \n",
       "2  Saint-Philippe      RE  -21.3585    55.7679        67.21        72   \n",
       "3      Champerico      GT   14.3000   -91.9167        82.35        78   \n",
       "4           Vaini      TO  -21.2000  -175.2000        78.96        83   \n",
       "\n",
       "   Cloudiness  Wind Speed  \n",
       "0           4        1.16  \n",
       "1          99        3.96  \n",
       "2          73       13.78  \n",
       "3         100        4.61  \n",
       "4          20        5.75  "
      ]
     },
     "execution_count": 31,
     "metadata": {},
     "output_type": "execute_result"
    }
   ],
   "source": [
    "# create a data frame\n",
    "weather_dict = {\n",
    "    \"City\": city_name,\n",
    "    \"Country\": country,\n",
    "    \"Latitude\": latitude,\n",
    "    \"Longitude\": longitude,\n",
    "    \"Temperature\": temperature,\n",
    "    \"Humidity\": humidity,\n",
    "    \"Cloudiness\": cloudiness,\n",
    "    \"Wind Speed\": wind_speed\n",
    "}\n",
    "\n",
    "weather_data = pd.DataFrame(weather_dict)\n",
    "weather_data.head()"
   ]
  },
  {
   "cell_type": "code",
   "execution_count": 32,
   "metadata": {},
   "outputs": [],
   "source": [
    "# Save into a .csv\n",
    "weather_data.to_csv(r'WeatherPy/weather_data.csv', index = False)"
   ]
  },
  {
   "cell_type": "markdown",
   "metadata": {},
   "source": [
    "## Inspect the data and remove the cities where the humidity > 100%.\n",
    "----\n",
    "Skip this step if there are no cities that have humidity > 100%. "
   ]
  },
  {
   "cell_type": "code",
   "execution_count": null,
   "metadata": {},
   "outputs": [],
   "source": [
    "#???There are none, but how would I do it? "
   ]
  },
  {
   "cell_type": "code",
   "execution_count": null,
   "metadata": {},
   "outputs": [],
   "source": [
    "# Get the indices of cities that have humidity over 100%.\n",
    "weather_data_clean = weather_data.get[[\"Humidity\"] > 100]"
   ]
  },
  {
   "cell_type": "code",
   "execution_count": null,
   "metadata": {},
   "outputs": [],
   "source": [
    "# Make a new DataFrame equal to the city data to drop all humidity outliers by index.\n",
    "# Passing \"inplace=False\" will make a copy of the city_data DataFrame, which we call \"clean_city_data\".\n"
   ]
  },
  {
   "cell_type": "markdown",
   "metadata": {},
   "source": [
    "## Plotting the Data\n",
    "* Use proper labeling of the plots using plot titles (including date of analysis) and axes labels.\n",
    "* Save the plotted figures as .pngs."
   ]
  },
  {
   "cell_type": "markdown",
   "metadata": {},
   "source": [
    "## Latitude vs. Temperature Plot"
   ]
  },
  {
   "cell_type": "code",
   "execution_count": 49,
   "metadata": {},
   "outputs": [
    {
     "data": {
      "image/png": "[encoded data removed]",
      "text/plain": [
       "<Figure size 432x288 with 1 Axes>"
      ]
     },
     "metadata": {
      "needs_background": "light"
     },
     "output_type": "display_data"
    }
   ],
   "source": [
    "# Build a Latitude vs. Temperature scatter plot\n",
    "plt.scatter(weather_data[\"Latitude\"], weather_data[\"Temperature\"], marker=\"o\")\n",
    "\n",
    "\n",
    "# Incorporate the other graph properties\n",
    "plt.title(\"Latitude vs. Temperature\")\n",
    "plt.ylabel(\"Max Temperature (°F)\")\n",
    "plt.xlabel(\"Latitude\")\n",
    "plt.grid(True)\n",
    "\n",
    "# Save the figure\n",
    "plt.savefig(\"WeatherPy/Latitude_vs_Temperature.png\")\n",
    "\n",
    "# Show plot\n",
    "plt.show()"
   ]
  },
  {
   "cell_type": "markdown",
   "metadata": {},
   "source": [
    "## Latitude vs. Humidity Plot"
   ]
  },
  {
   "cell_type": "code",
   "execution_count": 48,
   "metadata": {},
   "outputs": [
    {
     "data": {
      "image/png": "[encoded data removed]",
      "text/plain": [
       "<Figure size 432x288 with 1 Axes>"
      ]
     },
     "metadata": {
      "needs_background": "light"
     },
     "output_type": "display_data"
    }
   ],
   "source": [
    "# Build a Latitude vs. Temperature scatter plot\n",
    "plt.scatter(weather_data[\"Latitude\"], weather_data[\"Humidity\"], marker=\"o\")\n",
    "\n",
    "# Incorporate the other graph properties\n",
    "plt.title(\"Latitude vs. Humidity\")\n",
    "plt.ylabel(\"Max Temperature (°F)\")\n",
    "plt.xlabel(\"Latitude\")\n",
    "plt.grid(True)\n",
    "\n",
    "# Save the figure\n",
    "plt.savefig(\"WeatherPy/Latitude_vs_Humidity.png\")\n",
    "\n",
    "# Show plot\n",
    "plt.show()"
   ]
  },
  {
   "cell_type": "markdown",
   "metadata": {},
   "source": [
    "## Latitude vs. Cloudiness Plot"
   ]
  },
  {
   "cell_type": "code",
   "execution_count": 50,
   "metadata": {},
   "outputs": [
    {
     "data": {
      "image/png": "[encoded data removed]",
      "text/plain": [
       "<Figure size 432x288 with 1 Axes>"
      ]
     },
     "metadata": {
      "needs_background": "light"
     },
     "output_type": "display_data"
    }
   ],
   "source": [
    "# Build a Latitude vs. Cloudiness scatter plot\n",
    "plt.scatter(weather_data[\"Latitude\"], weather_data[\"Cloudiness\"], marker=\"o\")\n",
    "\n",
    "# Incorporate the other graph properties\n",
    "plt.title(\"Latitude vs. Humidity\")\n",
    "plt.ylabel(\"Max Temperature (°F)\")\n",
    "plt.xlabel(\"Latitude\")\n",
    "plt.grid(True)\n",
    "\n",
    "# Save the figure\n",
    "plt.savefig(\"WeatherPy/Latitude_vs_Cloudiness.png\")\n",
    "\n",
    "# Show plot\n",
    "plt.show()"
   ]
  },
  {
   "cell_type": "markdown",
   "metadata": {},
   "source": [
    "## Latitude vs. Wind Speed Plot"
   ]
  },
  {
   "cell_type": "code",
   "execution_count": 51,
   "metadata": {},
   "outputs": [
    {
     "data": {
      "image/png": "[encoded data removed]",
      "text/plain": [
       "<Figure size 432x288 with 1 Axes>"
      ]
     },
     "metadata": {
      "needs_background": "light"
     },
     "output_type": "display_data"
    }
   ],
   "source": [
    "# Build a Latitude vs. Wind Speed scatter plot\n",
    "plt.scatter(weather_data[\"Latitude\"], weather_data[\"Wind Speed\"], marker=\"o\")\n",
    "\n",
    "# Incorporate the other graph properties\n",
    "plt.title(\"Latitude vs. Humidity\")\n",
    "plt.ylabel(\"Max Temperature (°F)\")\n",
    "plt.xlabel(\"Latitude\")\n",
    "plt.grid(True)\n",
    "\n",
    "# Save the figure\n",
    "plt.savefig(\"WeatherPy/Latitude_vs_Wind_Speed.png\")\n",
    "\n",
    "# Show plot\n",
    "plt.show()"
   ]
  },
  {
   "cell_type": "markdown",
   "metadata": {},
   "source": [
    "## Linear Regression"
   ]
  },
  {
   "cell_type": "markdown",
   "metadata": {},
   "source": [
    "####  Northern Hemisphere - Max Temp vs. Latitude Linear Regression"
   ]
  },
  {
   "cell_type": "code",
   "execution_count": 49,
   "metadata": {},
   "outputs": [
    {
     "name": "stdout",
     "output_type": "stream",
     "text": [
      "The correlation between both factors is -0.02\n"
     ]
    }
   ],
   "source": [
    "# Calculate the correlation coefficient and linear regression model \n",
    "# for max temp and latitude\n",
    "correlation = st.pearsonr(weather_data[\"Max Temperature\"],weather_data[\"Latitude\"])\n",
    "correlation\n",
    "print(f\"The correlation between both factors is {round(correlation[0],2)}\")"
   ]
  },
  {
   "cell_type": "code",
   "execution_count": 58,
   "metadata": {},
   "outputs": [
    {
     "data": {
      "image/png": "[encoded data removed]",
      "text/plain": [
       "<Figure size 432x288 with 1 Axes>"
      ]
     },
     "metadata": {
      "needs_background": "light"
     },
     "output_type": "display_data"
    }
   ],
   "source": [
    "x_values = weather_data[\"Max Temperature\"]\n",
    "y_values = weather_data[\"Latitude\"]\n",
    "(slope, intercept, rvalue, pvalue, stderr) = linregress(x_values, y_values)\n",
    "regress_values = x_values * slope + intercept\n",
    "line_eq = \"y = \" + str(round(slope,2)) + \"x + \" + str(round(intercept,2))\n",
    "plt.scatter(x_values,y_values)\n",
    "plt.plot(x_values,regress_values,\"r-\")\n",
    "plt.annotate(line_eq,(70,-40),fontsize=15,color=\"red\")\n",
    "plt.xlabel('Max Temperature')\n",
    "plt.ylabel('Latitude')\n",
    "plt.show()"
   ]
  },
  {
   "cell_type": "markdown",
   "metadata": {},
   "source": [
    "####  Southern Hemisphere - Max Temp vs. Latitude Linear Regression"
   ]
  },
  {
   "cell_type": "code",
   "execution_count": 57,
   "metadata": {},
   "outputs": [
    {
     "ename": "TypeError",
     "evalue": "'<' not supported between instances of 'list' and 'int'",
     "output_type": "error",
     "traceback": [
      "\u001b[0;31m---------------------------------------------------------------------------\u001b[0m",
      "\u001b[0;31mTypeError\u001b[0m                                 Traceback (most recent call last)",
      "\u001b[0;32m<ipython-input-57-9147d51c3665>\u001b[0m in \u001b[0;36m<module>\u001b[0;34m\u001b[0m\n\u001b[1;32m      1\u001b[0m \u001b[0;31m#???How do we make this different from Northern Hemisphere???\u001b[0m\u001b[0;34m\u001b[0m\u001b[0;34m\u001b[0m\u001b[0;34m\u001b[0m\u001b[0m\n\u001b[0;32m----> 2\u001b[0;31m \u001b[0mcorrelation\u001b[0m \u001b[0;34m=\u001b[0m \u001b[0mst\u001b[0m\u001b[0;34m.\u001b[0m\u001b[0mpearsonr\u001b[0m\u001b[0;34m(\u001b[0m\u001b[0mweather_data\u001b[0m\u001b[0;34m[\u001b[0m\u001b[0;34m\"Temperature\"\u001b[0m\u001b[0;34m]\u001b[0m\u001b[0;34m,\u001b[0m\u001b[0mweather_data\u001b[0m\u001b[0;34m[\u001b[0m\u001b[0;34m[\u001b[0m\u001b[0;34m\"Latitude\"\u001b[0m\u001b[0;34m]\u001b[0m\u001b[0;34m<\u001b[0m\u001b[0;36m0\u001b[0m\u001b[0;34m]\u001b[0m\u001b[0;34m)\u001b[0m\u001b[0;34m\u001b[0m\u001b[0;34m\u001b[0m\u001b[0m\n\u001b[0m\u001b[1;32m      3\u001b[0m \u001b[0mcorrelation\u001b[0m\u001b[0;34m\u001b[0m\u001b[0;34m\u001b[0m\u001b[0m\n\u001b[1;32m      4\u001b[0m \u001b[0mprint\u001b[0m\u001b[0;34m(\u001b[0m\u001b[0;34mf\"The correlation between both factors is {round(correlation[0],2)}\"\u001b[0m\u001b[0;34m)\u001b[0m\u001b[0;34m\u001b[0m\u001b[0;34m\u001b[0m\u001b[0m\n",
      "\u001b[0;31mTypeError\u001b[0m: '<' not supported between instances of 'list' and 'int'"
     ]
    }
   ],
   "source": [
    "#???How do we make this different from Northern Hemisphere???\n",
    "correlation = st.pearsonr(weather_data[\"Temperature\"],weather_data[[\"Latitude\"]<0])\n",
    "correlation\n",
    "print(f\"The correlation between both factors is {round(correlation[0],2)}\")"
   ]
  },
  {
   "cell_type": "code",
   "execution_count": null,
   "metadata": {},
   "outputs": [],
   "source": [
    "#FIX!!!!!!!\n",
    "x_values = weather_data[\"Max Temperature\"]\n",
    "y_values = weather_data[\"Latitude\"]\n",
    "(slope, intercept, rvalue, pvalue, stderr) = linregress(x_values, y_values)\n",
    "regress_values = x_values * slope + intercept\n",
    "line_eq = \"y = \" + str(round(slope,2)) + \"x + \" + str(round(intercept,2))\n",
    "plt.scatter(x_values,y_values)\n",
    "plt.plot(x_values,regress_values,\"r-\")\n",
    "plt.annotate(line_eq,(80,-40),fontsize=15,color=\"red\")\n",
    "plt.xlabel('Max Temperature')\n",
    "plt.ylabel('Latitude')\n",
    "plt.show()"
   ]
  },
  {
   "cell_type": "markdown",
   "metadata": {},
   "source": [
    "####  Northern Hemisphere - Humidity (%) vs. Latitude Linear Regression"
   ]
  },
  {
   "cell_type": "code",
   "execution_count": 52,
   "metadata": {},
   "outputs": [
    {
     "name": "stdout",
     "output_type": "stream",
     "text": [
      "The correlation between both factors is -0.17\n"
     ]
    }
   ],
   "source": [
    "correlation = st.pearsonr(weather_data[\"Humidity\"],weather_data[\"Latitude\"])\n",
    "correlation\n",
    "print(f\"The correlation between both factors is {round(correlation[0],2)}\")"
   ]
  },
  {
   "cell_type": "code",
   "execution_count": 57,
   "metadata": {},
   "outputs": [
    {
     "data": {
      "image/png": "[encoded data removed]",
      "text/plain": [
       "<Figure size 432x288 with 1 Axes>"
      ]
     },
     "metadata": {
      "needs_background": "light"
     },
     "output_type": "display_data"
    }
   ],
   "source": [
    "x_values = weather_data[\"Humidity\"]\n",
    "y_values = weather_data[\"Latitude\"]\n",
    "(slope, intercept, rvalue, pvalue, stderr) = linregress(x_values, y_values)\n",
    "regress_values = x_values * slope + intercept\n",
    "line_eq = \"y = \" + str(round(slope,2)) + \"x + \" + str(round(intercept,2))\n",
    "plt.scatter(x_values,y_values)\n",
    "plt.plot(x_values,regress_values,\"r-\")\n",
    "plt.annotate(line_eq,(5,-50),fontsize=15,color=\"red\")\n",
    "plt.xlabel('Humidity')\n",
    "plt.ylabel('Latitude')\n",
    "plt.show()"
   ]
  },
  {
   "cell_type": "markdown",
   "metadata": {},
   "source": [
    "####  Southern Hemisphere - Humidity (%) vs. Latitude Linear Regression"
   ]
  },
  {
   "cell_type": "code",
   "execution_count": null,
   "metadata": {},
   "outputs": [],
   "source": [
    "correlation = st.pearsonr(weather_data[\"Humidity\"],weather_data[\"Latitude\"])\n",
    "correlation\n",
    "print(f\"The correlation between both factors is {round(correlation[0],2)}\")"
   ]
  },
  {
   "cell_type": "code",
   "execution_count": null,
   "metadata": {},
   "outputs": [],
   "source": [
    "x_values = weather_data[\"Max Temperature\"]\n",
    "y_values = weather_data[\"Latitude\"]\n",
    "(slope, intercept, rvalue, pvalue, stderr) = linregress(x_values, y_values)\n",
    "regress_values = x_values * slope + intercept\n",
    "line_eq = \"y = \" + str(round(slope,2)) + \"x + \" + str(round(intercept,2))\n",
    "plt.scatter(x_values,y_values)\n",
    "plt.plot(x_values,regress_values,\"r-\")\n",
    "plt.annotate(line_eq,(80,-40),fontsize=15,color=\"red\")\n",
    "plt.xlabel('Max Temperature')\n",
    "plt.ylabel('Latitude')\n",
    "plt.show()"
   ]
  },
  {
   "cell_type": "markdown",
   "metadata": {},
   "source": [
    "####  Northern Hemisphere - Cloudiness (%) vs. Latitude Linear Regression"
   ]
  },
  {
   "cell_type": "code",
   "execution_count": 63,
   "metadata": {},
   "outputs": [
    {
     "name": "stdout",
     "output_type": "stream",
     "text": [
      "The correlation between both factors is 0.1\n"
     ]
    }
   ],
   "source": [
    "correlation = st.pearsonr(weather_data[\"Cloudiness\"],weather_data[\"Latitude\"])\n",
    "correlation\n",
    "print(f\"The correlation between both factors is {round(correlation[0],2)}\")"
   ]
  },
  {
   "cell_type": "code",
   "execution_count": 62,
   "metadata": {},
   "outputs": [
    {
     "data": {
      "image/png": "[encoded data removed]",
      "text/plain": [
       "<Figure size 432x288 with 1 Axes>"
      ]
     },
     "metadata": {
      "needs_background": "light"
     },
     "output_type": "display_data"
    }
   ],
   "source": [
    "x_values = weather_data[\"Cloudiness\"]\n",
    "y_values = weather_data[\"Latitude\"]\n",
    "(slope, intercept, rvalue, pvalue, stderr) = linregress(x_values, y_values)\n",
    "regress_values = x_values * slope + intercept\n",
    "line_eq = \"y = \" + str(round(slope,2)) + \"x + \" + str(round(intercept,2))\n",
    "plt.scatter(x_values,y_values)\n",
    "plt.plot(x_values,regress_values,\"r-\")\n",
    "plt.annotate(line_eq,(35,-55),fontsize=15,color=\"red\")\n",
    "plt.xlabel('Cloudiness')\n",
    "plt.ylabel('Latitude')\n",
    "plt.show()"
   ]
  },
  {
   "cell_type": "markdown",
   "metadata": {},
   "source": [
    "####  Southern Hemisphere - Cloudiness (%) vs. Latitude Linear Regression"
   ]
  },
  {
   "cell_type": "code",
   "execution_count": null,
   "metadata": {},
   "outputs": [],
   "source": [
    "correlation = st.pearsonr(weather_data[\"Humidity\"],weather_data[\"Latitude\"])\n",
    "correlation\n",
    "print(f\"The correlation between both factors is {round(correlation[0],2)}\")"
   ]
  },
  {
   "cell_type": "code",
   "execution_count": null,
   "metadata": {},
   "outputs": [],
   "source": [
    "x_values = weather_data[\"Max Temperature\"]\n",
    "y_values = weather_data[\"Latitude\"]\n",
    "(slope, intercept, rvalue, pvalue, stderr) = linregress(x_values, y_values)\n",
    "regress_values = x_values * slope + intercept\n",
    "line_eq = \"y = \" + str(round(slope,2)) + \"x + \" + str(round(intercept,2))\n",
    "plt.scatter(x_values,y_values)\n",
    "plt.plot(x_values,regress_values,\"r-\")\n",
    "plt.annotate(line_eq,(80,-40),fontsize=15,color=\"red\")\n",
    "plt.xlabel('Max Temperature')\n",
    "plt.ylabel('Latitude')\n",
    "plt.show()"
   ]
  },
  {
   "cell_type": "markdown",
   "metadata": {},
   "source": [
    "####  Northern Hemisphere - Wind Speed (mph) vs. Latitude Linear Regression"
   ]
  },
  {
   "cell_type": "code",
   "execution_count": 64,
   "metadata": {},
   "outputs": [
    {
     "name": "stdout",
     "output_type": "stream",
     "text": [
      "The correlation between both factors is 0.05\n"
     ]
    }
   ],
   "source": [
    "correlation = st.pearsonr(weather_data[\"Wind Speed\"],weather_data[\"Latitude\"])\n",
    "correlation\n",
    "print(f\"The correlation between both factors is {round(correlation[0],2)}\")"
   ]
  },
  {
   "cell_type": "code",
   "execution_count": 67,
   "metadata": {},
   "outputs": [
    {
     "data": {
      "image/png": "[encoded data removed]",
      "text/plain": [
       "<Figure size 432x288 with 1 Axes>"
      ]
     },
     "metadata": {
      "needs_background": "light"
     },
     "output_type": "display_data"
    }
   ],
   "source": [
    "x_values = weather_data[\"Wind Speed\"]\n",
    "y_values = weather_data[\"Latitude\"]\n",
    "(slope, intercept, rvalue, pvalue, stderr) = linregress(x_values, y_values)\n",
    "regress_values = x_values * slope + intercept\n",
    "line_eq = \"y = \" + str(round(slope,2)) + \"x + \" + str(round(intercept,2))\n",
    "plt.scatter(x_values,y_values)\n",
    "plt.plot(x_values,regress_values,\"r-\")\n",
    "plt.annotate(line_eq,(18,-55),fontsize=15,color=\"red\")\n",
    "plt.xlabel('Max Temperature')\n",
    "plt.ylabel('Latitude')\n",
    "plt.show()"
   ]
  },
  {
   "cell_type": "markdown",
   "metadata": {},
   "source": [
    "####  Southern Hemisphere - Wind Speed (mph) vs. Latitude Linear Regression"
   ]
  },
  {
   "cell_type": "code",
   "execution_count": null,
   "metadata": {},
   "outputs": [],
   "source": [
    "correlation = st.pearsonr(weather_data[\"Humidity\"],weather_data[\"Latitude\"])\n",
    "correlation\n",
    "print(f\"The correlation between both factors is {round(correlation[0],2)}\")"
   ]
  },
  {
   "cell_type": "code",
   "execution_count": null,
   "metadata": {},
   "outputs": [],
   "source": [
    "x_values = weather_data[\"Max Temperature\"]\n",
    "y_values = weather_data[\"Latitude\"]\n",
    "(slope, intercept, rvalue, pvalue, stderr) = linregress(x_values, y_values)\n",
    "regress_values = x_values * slope + intercept\n",
    "line_eq = \"y = \" + str(round(slope,2)) + \"x + \" + str(round(intercept,2))\n",
    "plt.scatter(x_values,y_values)\n",
    "plt.plot(x_values,regress_values,\"r-\")\n",
    "plt.annotate(line_eq,(80,-40),fontsize=15,color=\"red\")\n",
    "plt.xlabel('Max Temperature')\n",
    "plt.ylabel('Latitude')\n",
    "plt.show()"
   ]
  }
 ],
 "metadata": {
  "anaconda-cloud": {},
  "kernel_info": {
   "name": "python3"
  },
  "kernelspec": {
   "display_name": "Python 3",
   "language": "python",
   "name": "python3"
  },
  "language_info": {
   "codemirror_mode": {
    "name": "ipython",
    "version": 3
   },
   "file_extension": ".py",
   "mimetype": "text/x-python",
   "name": "python",
   "nbconvert_exporter": "python",
   "pygments_lexer": "ipython3",
   "version": "3.8.5"
  },
  "latex_envs": {
   "LaTeX_envs_menu_present": true,
   "autoclose": false,
   "autocomplete": true,
   "bibliofile": "biblio.bib",
   "cite_by": "apalike",
   "current_citInitial": 1,
   "eqLabelWithNumbers": true,
   "eqNumInitial": 1,
   "hotkeys": {
    "equation": "Ctrl-E",
    "itemize": "Ctrl-I"
   },
   "labels_anchors": false,
   "latex_user_defs": false,
   "report_style_numbering": false,
   "user_envs_cfg": false
  },
  "nteract": {
   "version": "0.12.3"
  }
 },
 "nbformat": 4,
 "nbformat_minor": 4
}
